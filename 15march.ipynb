{
 "cells": [
  {
   "cell_type": "markdown",
   "metadata": {},
   "source": [
    "Q!. Explain the following with an example \n",
    "1. AI 2.ML 3.DP"
   ]
  },
  {
   "cell_type": "markdown",
   "metadata": {},
   "source": [
    "Artificial Intelligence is basically the mechanism to incorporate human intelligence into machines through a set of rules(algorithm)\n",
    "ex-chatgpt,robotic \n",
    "\n",
    "2.ML is an application or subset of AI. ML focuses on the development of programs so that it can access data to use it for itself.\n",
    "ex-Facial recognition, face recognition\n",
    "\n",
    "3. DL algorithms focus on information processing patterns mechanism to possibly identify the patterns just like our human brain does and classifies the information accordingly. DL works on larger sets of data when compared to ML and the prediction mechanism is self-administered by machines\n",
    "ex-  automated driving ,Industrial Automation"
   ]
  },
  {
   "cell_type": "markdown",
   "metadata": {},
   "source": [
    "what is the supervised learning? List some example of supervised learning."
   ]
  },
  {
   "cell_type": "markdown",
   "metadata": {},
   "source": [
    "Supervised learning is a type of machine learning in which a computer algorithm learns to make predictions or decisions based on labeled data.\n",
    "1.Email Filtering\n",
    "2.Credit Scoring\n",
    "3.Voice Recognition\n",
    "4.Image and speech recognition 5. recommendation systems, 6.fraud detection"
   ]
  },
  {
   "cell_type": "markdown",
   "metadata": {},
   "source": [
    "what are the unsupervised learing? list some example of unsupervised."
   ]
  },
  {
   "cell_type": "markdown",
   "metadata": {},
   "source": [
    "Unsupervised learning, also known as unsupervised machine learning, uses machine learning algorithms to analyze and cluster unlabeled datasets\n",
    "\n",
    "example\n",
    "Dimensionality reduction 2.Clustering 3.Principal component analysis"
   ]
  },
  {
   "cell_type": "markdown",
   "metadata": {},
   "source": [
    "4. what is the difference between AI,ML,DL and DS"
   ]
  },
  {
   "cell_type": "markdown",
   "metadata": {},
   "source": [
    "AI:- AI is a computer algorithm which exhibits intelligence through decision making.\t\n",
    "ML:- ML  is an AI algorithm which allows system to learn from data.\t\n",
    "DL:- DL is a ML algorithm that uses deep(more than one layer) neural networks to analyze data and provide output accordingly.\n",
    "DS:- Data science is a discipline that uses various technologies and methods to analyze data.\n",
    "\n",
    "2.\n",
    "\n",
    "AI:- is the broader family consisting of ML and DL as it’s components.\t\n",
    "ML :-ML is the subset of AI.\t\n",
    "DL :-   DL is the subset of ML.\n",
    "DS:- DS It combines computational science, statistics, mathematics, and company or business knowledge."
   ]
  },
  {
   "cell_type": "markdown",
   "metadata": {},
   "source": [
    "5. What are the main difference between supervised and semi superwised learning"
   ]
  },
  {
   "cell_type": "markdown",
   "metadata": {},
   "source": [
    "Supervised learning aims to learn a function that, given a sample of data and desired outputs, approximates a function that maps inputs to outputs. Semi-supervised learning aims to label unlabeled data points using knowledge learned from a small number of labeled data points."
   ]
  },
  {
   "cell_type": "markdown",
   "metadata": {},
   "source": [
    "6. what is train ,test ,validation split ? explain the importance of each term"
   ]
  },
  {
   "cell_type": "markdown",
   "metadata": {},
   "source": [
    "Training set: The training set is essential for enabling the model to learn from the provided data and capture meaningful patterns. It forms the basis of the model's knowledge and guides its parameter adjustments.\n",
    "\n",
    "Test set: The test set allows you to evaluate the model's performance on unseen data, providing an estimate of how well it will perform in real-world scenarios. It helps to assess the model's ability to generalize and identify any potential issues like overfitting.\n",
    "\n",
    "Validation set: The validation set aids in model selection and hyperparameter tuning. By comparing the performance of different models on the validation set, you can choose the best model that balances generalization and performance."
   ]
  },
  {
   "cell_type": "markdown",
   "metadata": {},
   "source": [
    "7. How can unsupervised learning be used in anomaly detection?"
   ]
  },
  {
   "cell_type": "markdown",
   "metadata": {},
   "source": [
    "Unsupervised learning can be effectively used in anomaly detection, which is the task of identifying unusual or abnormal instances in a dataset\n",
    "\n",
    "some tools of anomaly detection\n",
    "1. Clustering\n",
    "2. Density\n",
    "3. Reconstruction\n",
    "4. statistical methord \n",
    "5. Dimensionality\n"
   ]
  },
  {
   "cell_type": "markdown",
   "metadata": {},
   "source": [
    "8. List down some commonnly used supervised learning algorithm and unsupervised algorithms"
   ]
  },
  {
   "cell_type": "markdown",
   "metadata": {},
   "source": [
    "Supervised Learning Algorithms:\n",
    "\n",
    "1. Linear Regression\n",
    "2. Logistic Regression\n",
    "3. Decision Trees\n",
    "4. Random Forests\n",
    "5. Support Vector Machines (SVM)\n",
    "6. Naive Bayes\n",
    "7. k-Nearest Neighbors (k-NN)\n",
    "8. Gradient Boosting Methods (e.g., XGBoost, \n",
    "9. AdaBoost, LightGBM)\n",
    "10. Neural Networks (e.g., Multilayer Perceptron)\n",
    "\n",
    "Unsupervised Learning Algorithms:\n",
    "\n",
    "1. k-Means Clustering\n",
    "2. Hierarchical Clustering\n",
    "3. Density-Based Spatial Clustering of \n",
    "4. Applications with Noise (DBSCAN)\n",
    "5. Gaussian Mixture Models (GMM)\n",
    "6. Self-Organizing Maps (SOM)\n",
    "7. Principal Component Analysis (PCA)\n",
    "8. t-SNE (t-Distributed Stochastic Neighbor Embedding)\n",
    "9. Isolation Forest\n",
    "10. Local Outlier Factor (LOF)\n",
    "    Autoencoders\n",
    "\n"
   ]
  }
 ],
 "metadata": {
  "language_info": {
   "name": "python"
  },
  "orig_nbformat": 4
 },
 "nbformat": 4,
 "nbformat_minor": 2
}
